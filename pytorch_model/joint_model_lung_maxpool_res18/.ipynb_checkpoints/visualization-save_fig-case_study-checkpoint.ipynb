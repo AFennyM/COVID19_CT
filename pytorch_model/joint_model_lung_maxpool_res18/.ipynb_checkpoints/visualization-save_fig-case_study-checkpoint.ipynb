{
 "cells": [
  {
   "cell_type": "code",
   "execution_count": null,
   "metadata": {},
   "outputs": [],
   "source": [
    "import os\n",
    "import glob\n",
    "\n",
    "import skimage\n",
    "import matplotlib.pyplot as plt\n",
    "import numpy as np\n",
    "%matplotlib inline\n",
    "import scipy\n",
    "from skimage import transform as sktr\n",
    "from skimage.measure import regionprops\n",
    "import os\n",
    "import h5py\n",
    "os.environ[\"CUDA_DEVICE_ORDER\"]=\"PCI_BUS_ID\"   # see issue #152\n",
    "os.environ[\"CUDA_VISIBLE_DEVICES\"]=\"7\"\n",
    "\n",
    "import albumentations as Alb\n",
    "import torch\n",
    "import torchvision.models as tmodels\n",
    "from cv2 import BORDER_CONSTANT, BORDER_REPLICATE, BORDER_REFLECT\n",
    "import torch.nn as nn\n",
    "import torch.nn.functional as F\n",
    "#import torchvision.transforms as ttransforms\n",
    "import torch\n",
    "import torchvision.models as tmodels\n",
    "import torch.utils.data as tdata\n",
    "from skimage.io import imread\n",
    "import random\n",
    "import logging\n",
    "import pandas as pd\n",
    "\n",
    "\n",
    "from model import construct_model\n",
    "from helpers import *\n",
    "from model_main_ops import get_cv\n",
    "from model_main_ops.datareader import DataReader, train_aug_ops, constant_ops\n",
    "from model_main_ops.performance_metric import ScoreRecorder, compute_metric\n",
    "from skimage.transform import resize"
   ]
  },
  {
   "cell_type": "code",
   "execution_count": null,
   "metadata": {},
   "outputs": [],
   "source": [
    "#to_plot = set(['P22', 'P24', 'P25', 'P3', 'P31', 'P23', 'WCH_P5', 'P70', 'P54', 'P56', 'P55', 'N18', 'N26', 'WCH_P18'])"
   ]
  },
  {
   "cell_type": "code",
   "execution_count": null,
   "metadata": {
    "scrolled": false
   },
   "outputs": [],
   "source": [
    "model = construct_model()\n",
    "model.cuda()\n",
    "model_to_use = 'model_best.pth'\n",
    "\n",
    "test_info, _, pid2features = get_cv.get_test_split()\n",
    "test_datareader = DataReader(test_info, pid2features, transform=constant_ops)\n",
    "test_generator = tdata.DataLoader(test_datareader, batch_size=1, shuffle=False, pin_memory = True)\n",
    "\n",
    "\n",
    "#for i in range(len(test_datareader)):\n",
    "for i in range(0, 2000, 30):\n",
    "    x, fea, y = test_datareader[i]\n",
    "    img_to_plot = np.squeeze(x)\n",
    "    \n",
    "    for cv_fold in range(5):\n",
    "        model.load_state_dict(torch.load(os.path.join('model_cv%d' % cv_fold, model_to_use) ))\n",
    "        model.eval()\n",
    "        \n",
    "        xt = torch.from_numpy(x[np.newaxis]).cuda()\n",
    "        ft = torch.from_numpy(fea[np.newaxis]).cuda()\n",
    "        \n",
    "        pa, _, prob = model(xt, ft, is_pooling = False)\n",
    "        prob = torch.sigmoid(prob)\n",
    "        prob = prob.detach().cpu().numpy()\n",
    "        prob_max = prob.max()\n",
    "        \n",
    "        if cv_fold == 0:\n",
    "            heatmap_to_plot = resize(np.squeeze(prob), (512, 512)) * (np.squeeze(x) > 0.5 )\n",
    "        else:\n",
    "            heatmap_to_plot += resize(np.squeeze(prob), (512, 512)) * (np.squeeze(x) > 0.5 )           \n",
    "    \n",
    "    heatmap_to_plot /= 5.\n",
    "    \n",
    "    i0, j0, i1, j1 = regionprops((img_to_plot > 0.5).astype('int'))[0].bbox\n",
    "    i0, j0 = max(i0 - 10, 0), max(j0 - 10, 0)\n",
    "    i1, j1 = i1 + 10, j1 + 10\n",
    "    img_to_plot = img_to_plot[i0:i1, j0:j1]\n",
    "    heatmap_to_plot = heatmap_to_plot[i0:i1, j0:j1]\n",
    "    \n",
    "    print(y, prob_max)\n",
    "    fig, axes = plt.subplots(1, 2, figsize = (8, 4))\n",
    "    ax = axes[0]\n",
    "    ax.imshow(img_to_plot, cmap = 'bone')\n",
    "    ax.set_xticks([])\n",
    "    ax.set_yticks([])\n",
    "    ax = axes[1]\n",
    "    ax.imshow(heatmap_to_plot, cmap = 'RdBu_r', vmax = 0.5, vmin = 0.)\n",
    "    ax.set_xticks([])\n",
    "    ax.set_yticks([])\n",
    "    #plt.savefig(fn, transparent = True)\n",
    "    plt.show()\n",
    "        "
   ]
  },
  {
   "cell_type": "code",
   "execution_count": null,
   "metadata": {},
   "outputs": [],
   "source": []
  }
 ],
 "metadata": {
  "kernelspec": {
   "display_name": "Python 3",
   "language": "python",
   "name": "python3"
  },
  "language_info": {
   "codemirror_mode": {
    "name": "ipython",
    "version": 3
   },
   "file_extension": ".py",
   "mimetype": "text/x-python",
   "name": "python",
   "nbconvert_exporter": "python",
   "pygments_lexer": "ipython3",
   "version": "3.6.9"
  }
 },
 "nbformat": 4,
 "nbformat_minor": 4
}
