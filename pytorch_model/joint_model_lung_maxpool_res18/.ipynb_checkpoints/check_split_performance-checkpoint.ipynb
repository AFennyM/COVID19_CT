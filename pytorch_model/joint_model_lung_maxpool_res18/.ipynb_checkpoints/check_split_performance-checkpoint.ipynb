{
 "cells": [
  {
   "cell_type": "code",
   "execution_count": 1,
   "metadata": {},
   "outputs": [],
   "source": [
    "import pandas as pd"
   ]
  },
  {
   "cell_type": "code",
   "execution_count": 2,
   "metadata": {},
   "outputs": [
    {
     "name": "stdout",
     "output_type": "stream",
     "text": [
      "0 0.95491\n",
      "1 0.93166\n",
      "2 0.94732\n",
      "3 0.95823\n",
      "4 0.95301\n"
     ]
    }
   ],
   "source": [
    "from sklearn.metrics import roc_auc_score\n",
    "dfs = []\n",
    "for i in range(5):\n",
    "    df = pd.read_csv('./model_cv%d/model_best_prob_ave_val.csv' % i)\n",
    "    dfs.append(df.sort_values('0'))\n",
    "    print('%d %0.5f' % (i, roc_auc_score(df['1'], df['2'])))"
   ]
  },
  {
   "cell_type": "code",
   "execution_count": 3,
   "metadata": {},
   "outputs": [],
   "source": [
    "import numpy as np\n",
    "\n",
    "pids = dfs[0]['0'].values\n",
    "for df in dfs:\n",
    "    assert(np.all(pids == df['0'].values))"
   ]
  },
  {
   "cell_type": "code",
   "execution_count": 4,
   "metadata": {},
   "outputs": [
    {
     "name": "stdout",
     "output_type": "stream",
     "text": [
      "ensemble: 0.95729\n"
     ]
    }
   ],
   "source": [
    "pred = np.zeros_like(dfs[0]['2'].values)\n",
    "for df in dfs:\n",
    "    pred += df['2'].values\n",
    "pred /= 5.\n",
    "print('ensemble: %0.5f' % (roc_auc_score(df['1'], pred)))"
   ]
  },
  {
   "cell_type": "code",
   "execution_count": null,
   "metadata": {},
   "outputs": [],
   "source": []
  }
 ],
 "metadata": {
  "kernelspec": {
   "display_name": "Python 3",
   "language": "python",
   "name": "python3"
  },
  "language_info": {
   "codemirror_mode": {
    "name": "ipython",
    "version": 3
   },
   "file_extension": ".py",
   "mimetype": "text/x-python",
   "name": "python",
   "nbconvert_exporter": "python",
   "pygments_lexer": "ipython3",
   "version": "3.6.9"
  }
 },
 "nbformat": 4,
 "nbformat_minor": 4
}
