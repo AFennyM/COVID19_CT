{
 "cells": [
  {
   "cell_type": "code",
   "execution_count": 1,
   "metadata": {},
   "outputs": [],
   "source": [
    "import pandas as pd"
   ]
  },
  {
   "cell_type": "code",
   "execution_count": 16,
   "metadata": {},
   "outputs": [],
   "source": [
    "df_sample = pd.read_csv('/data/COVID19_clinical_data/clinical_info_joint.csv')\n",
    "\n",
    "for i in range(5):\n",
    "    \n",
    "    for f in ['cv_info.csv', 'train_info.csv', 'model_init_cv_info.csv', 'model_init_train_info.csv']:\n",
    "        df = pd.read_csv('./model_cv%d/%s' % (i, f))\n",
    "        train_pids = set(df['0'])\n",
    "        assert set(df_sample[[p in train_pids for p in df_sample.pid]]['set']) == set(['train'])\n"
   ]
  },
  {
   "cell_type": "code",
   "execution_count": 17,
   "metadata": {},
   "outputs": [],
   "source": [
    "from itertools import combinations\n",
    "for f in ['cv_info.csv', 'model_init_cv_info.csv']:\n",
    "    pids = []\n",
    "    for i in range(5):\n",
    "        df = pd.read_csv('./model_cv%d/%s' % (i, f))\n",
    "        pids.append(set(df['0']))\n",
    "    for s0, s1 in combinations(pids, 2):\n",
    "        assert(len(s0 & s1) == 0)"
   ]
  },
  {
   "cell_type": "code",
   "execution_count": 19,
   "metadata": {},
   "outputs": [],
   "source": [
    "from itertools import combinations\n",
    "for i in range(5):\n",
    "    pids = []\n",
    "    for f in ['cv_info.csv', 'model_init_cv_info.csv']:\n",
    "        df = pd.read_csv('./model_cv%d/%s' % (i, f))\n",
    "        pids.append(set(df['0']))\n",
    "    s0, s1 = pids\n",
    "    assert(s0 == s1)"
   ]
  },
  {
   "cell_type": "code",
   "execution_count": null,
   "metadata": {},
   "outputs": [],
   "source": []
  }
 ],
 "metadata": {
  "kernelspec": {
   "display_name": "Python 3",
   "language": "python",
   "name": "python3"
  },
  "language_info": {
   "codemirror_mode": {
    "name": "ipython",
    "version": 3
   },
   "file_extension": ".py",
   "mimetype": "text/x-python",
   "name": "python",
   "nbconvert_exporter": "python",
   "pygments_lexer": "ipython3",
   "version": "3.6.9"
  }
 },
 "nbformat": 4,
 "nbformat_minor": 4
}
