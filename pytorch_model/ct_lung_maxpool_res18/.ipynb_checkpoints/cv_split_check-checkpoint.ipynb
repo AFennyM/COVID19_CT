{
 "cells": [
  {
   "cell_type": "code",
   "execution_count": null,
   "metadata": {},
   "outputs": [],
   "source": [
    "from model_main_ops import get_cv"
   ]
  },
  {
   "cell_type": "code",
   "execution_count": null,
   "metadata": {},
   "outputs": [],
   "source": [
    "for i in range(5):\n",
    "    train_info, val_info, test_info = get_cv.get_split(i)\n",
    "    print(len(train_info), len(val_info), len(test_info))\n",
    "    print(len(set([f[0] for f in test_info])))"
   ]
  },
  {
   "cell_type": "code",
   "execution_count": null,
   "metadata": {},
   "outputs": [],
   "source": [
    "len(train_info), len(val_info), len(test_info)"
   ]
  },
  {
   "cell_type": "code",
   "execution_count": null,
   "metadata": {},
   "outputs": [],
   "source": [
    "len(set([f[0] for f in test_info]))"
   ]
  },
  {
   "cell_type": "code",
   "execution_count": null,
   "metadata": {},
   "outputs": [],
   "source": [
    "train_info, val_info, test_info = get_cv.get_split(0)"
   ]
  },
  {
   "cell_type": "code",
   "execution_count": null,
   "metadata": {
    "scrolled": false
   },
   "outputs": [],
   "source": [
    "import pandas as pd\n",
    "res = []\n",
    "for i in range(5):\n",
    "    infos = get_cv.get_split(i)\n",
    "    tmp = []\n",
    "    for info in infos:\n",
    "        df = pd.DataFrame(info).groupby(0).mean()\n",
    "        num = df.shape[0]\n",
    "        num_pos = df.sum(axis = 0).values[0]\n",
    "        num_neg = sum(df[2] == 0)\n",
    "        tmp += [num, num_pos]\n",
    "    res.append(tmp)"
   ]
  },
  {
   "cell_type": "code",
   "execution_count": null,
   "metadata": {},
   "outputs": [],
   "source": [
    "pd.DataFrame(res)"
   ]
  },
  {
   "cell_type": "code",
   "execution_count": null,
   "metadata": {},
   "outputs": [],
   "source": []
  }
 ],
 "metadata": {
  "kernelspec": {
   "display_name": "Python 3",
   "language": "python",
   "name": "python3"
  },
  "language_info": {
   "codemirror_mode": {
    "name": "ipython",
    "version": 3
   },
   "file_extension": ".py",
   "mimetype": "text/x-python",
   "name": "python",
   "nbconvert_exporter": "python",
   "pygments_lexer": "ipython3",
   "version": "3.6.9"
  }
 },
 "nbformat": 4,
 "nbformat_minor": 4
}
